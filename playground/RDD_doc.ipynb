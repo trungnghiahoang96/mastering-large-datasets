{
 "cells": [
  {
   "cell_type": "code",
   "execution_count": 1,
   "id": "db6bf8d6",
   "metadata": {},
   "outputs": [],
   "source": [
    "from pyspark import SparkConf, SparkContext\n",
    "from pyspark.sql import SparkSession"
   ]
  },
  {
   "cell_type": "code",
   "execution_count": 2,
   "id": "5c84393f-b1d0-4075-8582-116ced57079c",
   "metadata": {},
   "outputs": [],
   "source": [
    "conf = SparkConf().setAppName(\"RDD_doc_notes\")\n",
    "sc = SparkContext.getOrCreate(conf=conf)"
   ]
  },
  {
   "cell_type": "code",
   "execution_count": 21,
   "id": "6a8e720f-ada6-48d9-9f1b-5d04ce56aba7",
   "metadata": {},
   "outputs": [
    {
     "data": {
      "text/html": [
       "\n",
       "        <div>\n",
       "            <p><b>SparkContext</b></p>\n",
       "\n",
       "            <p><a href=\"http://192.168.1.13:4040\">Spark UI</a></p>\n",
       "\n",
       "            <dl>\n",
       "              <dt>Version</dt>\n",
       "                <dd><code>v3.1.1</code></dd>\n",
       "              <dt>Master</dt>\n",
       "                <dd><code>local[*]</code></dd>\n",
       "              <dt>AppName</dt>\n",
       "                <dd><code>RDD_doc_notes</code></dd>\n",
       "            </dl>\n",
       "        </div>\n",
       "        "
      ],
      "text/plain": [
       "<SparkContext master=local[*] appName=RDD_doc_notes>"
      ]
     },
     "execution_count": 21,
     "metadata": {},
     "output_type": "execute_result"
    }
   ],
   "source": [
    "sc"
   ]
  },
  {
   "cell_type": "code",
   "execution_count": 22,
   "id": "2a2b0ebf-78e0-47ee-93c4-f963c77f9977",
   "metadata": {},
   "outputs": [
    {
     "data": {
      "text/plain": [
       "'***************'"
      ]
     },
     "execution_count": 22,
     "metadata": {},
     "output_type": "execute_result"
    }
   ],
   "source": [
    "data = [1, 2, 3, 4, 5]\n",
    "distData = sc.parallelize(data)\n",
    "distData.map(lambda x: \"*\" * x).reduce(lambda a, b: a + b)"
   ]
  },
  {
   "cell_type": "code",
   "execution_count": 4,
   "id": "62f8be26-f819-4eb7-b97b-d4a74489717c",
   "metadata": {},
   "outputs": [
    {
     "data": {
      "text/plain": [
       "PythonRDD[3] at RDD at PythonRDD.scala:53"
      ]
     },
     "execution_count": 4,
     "metadata": {},
     "output_type": "execute_result"
    }
   ],
   "source": [
    "rdd = sc.parallelize(range(1, 4)).map(lambda x: (x, \"a\" * x))\n",
    "rdd"
   ]
  },
  {
   "cell_type": "code",
   "execution_count": 6,
   "id": "f7be032d-6164-4daa-a5f5-4f911ade80af",
   "metadata": {},
   "outputs": [],
   "source": [
    "rdd.saveAsSequenceFile(\"path/to/file\")"
   ]
  },
  {
   "cell_type": "code",
   "execution_count": 7,
   "id": "b4a5ee9d-c156-44a5-aa87-4dad1295db56",
   "metadata": {},
   "outputs": [
    {
     "data": {
      "text/plain": [
       "[(1, 'a'), (2, 'aa'), (3, 'aaa')]"
      ]
     },
     "execution_count": 7,
     "metadata": {},
     "output_type": "execute_result"
    }
   ],
   "source": [
    "sorted(sc.sequenceFile(\"path/to/file\").collect())"
   ]
  },
  {
   "cell_type": "code",
   "execution_count": 8,
   "id": "55725b03-e0fc-4430-94ff-efd5eeae4f78",
   "metadata": {},
   "outputs": [
    {
     "data": {
      "text/plain": [
       "PythonRDD[15] at RDD at PythonRDD.scala:53"
      ]
     },
     "execution_count": 8,
     "metadata": {},
     "output_type": "execute_result"
    }
   ],
   "source": [
    "lines = sc.textFile(\"/home/nghiaht/pyspark/mastering-large-datasets/Ch07/*.txt\")\n",
    "lineLengths = lines.map(lambda s: len(s))\n",
    "lineLengths.persist()\n",
    "\n",
    "lineLengths"
   ]
  },
  {
   "cell_type": "code",
   "execution_count": 9,
   "id": "94f0bae8-64c6-42c5-9d2a-f5b6066045b8",
   "metadata": {},
   "outputs": [
    {
     "data": {
      "text/plain": [
       "82364"
      ]
     },
     "execution_count": 9,
     "metadata": {},
     "output_type": "execute_result"
    }
   ],
   "source": [
    "totalLength = lineLengths.reduce(lambda a, b: a + b)\n",
    "totalLength"
   ]
  },
  {
   "cell_type": "code",
   "execution_count": 10,
   "id": "b65b7192-040b-4090-9ef1-68380f8c42e0",
   "metadata": {},
   "outputs": [
    {
     "data": {
      "text/plain": [
       "PythonRDD[15] at RDD at PythonRDD.scala:53"
      ]
     },
     "execution_count": 10,
     "metadata": {},
     "output_type": "execute_result"
    }
   ],
   "source": [
    "lineLengths"
   ]
  },
  {
   "cell_type": "code",
   "execution_count": 17,
   "id": "4eb69a9a-833f-4ab2-9d74-2dddb0ef93dd",
   "metadata": {},
   "outputs": [
    {
     "data": {
      "text/html": [
       "\n",
       "            <div>\n",
       "                <p><b>SparkSession - in-memory</b></p>\n",
       "                \n",
       "        <div>\n",
       "            <p><b>SparkContext</b></p>\n",
       "\n",
       "            <p><a href=\"http://192.168.1.13:4040\">Spark UI</a></p>\n",
       "\n",
       "            <dl>\n",
       "              <dt>Version</dt>\n",
       "                <dd><code>v3.1.1</code></dd>\n",
       "              <dt>Master</dt>\n",
       "                <dd><code>local[*]</code></dd>\n",
       "              <dt>AppName</dt>\n",
       "                <dd><code>RDD_doc_notes</code></dd>\n",
       "            </dl>\n",
       "        </div>\n",
       "        \n",
       "            </div>\n",
       "        "
      ],
      "text/plain": [
       "<pyspark.sql.session.SparkSession at 0x7fd01dfd5b50>"
      ]
     },
     "execution_count": 17,
     "metadata": {},
     "output_type": "execute_result"
    }
   ],
   "source": [
    "def score(word):\n",
    "    total = 0\n",
    "    for i, char in enumerate(word):\n",
    "        if char.lower() in \"dlcu\":\n",
    "            total += 1\n",
    "        elif char.lower() in \"mwfbygpvk\":\n",
    "            total += 2\n",
    "        elif char.lower() in \"jxqz\":\n",
    "            total += 4\n",
    "        if i >= 4:\n",
    "            total += 2\n",
    "    return total\n",
    "\n",
    "\n",
    "import re\n",
    "\n",
    "PAT = re.compile(r\"[-./:\\s\\xa0]+\")\n",
    "\n",
    "spark = SparkSession(sc)\n",
    "spark"
   ]
  },
  {
   "cell_type": "code",
   "execution_count": 19,
   "id": "d2507ad2-6d2e-4d23-9370-fa367ab81002",
   "metadata": {},
   "outputs": [
    {
     "name": "stdout",
     "output_type": "stream",
     "text": [
      "[('Reflections', 18), ('Skyscrapers', 21), ('confessions', 17), (\"Something's\", 18), ('entertainers,', 18), ('Truthfully,', 22), (\"Everybody's\", 23), (\"Everybody's\", 23), (\"Everybody's\", 23), (\"everywhere's\", 22), ('proclamations', 24), ('opportunities', 23), ('apprehended', 20), ('“apprehended”', 24), ('“apprehended”', 24), ('Christendom', 18), ('satisfaction', 19), ('irreligious', 18), ('irreligious', 18), ('discussions', 17), ('interminable', 21), ('conversations', 21), ('improvement', 22), ('themselves,', 19), ('Shakespeare’s', 22), ('contemptible', 24), ('“ministering”', 22), ('organisation', 18), ('impossible,', 21), ('associations', 17), ('intolerable', 18), ('unconditional', 22), ('Institutions,', 19), ('responsibility,', 29), ('possession_', 16), ('possession,', 16), ('discretion,', 16), ('intelligence,', 23), ('carelessness', 18), ('intelligence,', 23), ('_Mistresses_', 18), ('discretion,', 16), ('discretion?', 16), ('Mistresses,', 16), ('authority”?', 17), ('“authority”?', 19), ('“authority”?', 19), ('wrongfully,', 25), ('reasonable,', 17), ('remembering', 22), ('probationer', 18), ('unspeakable', 22), ('experience,', 21), ('comfortably”', 26), ('probationer,', 20), ('“authority”;', 19), ('uncomfortable', 27), ('uncomfortable', 27), ('inconsiderately', 27), ('inconsiderate', 20), ('distractions,', 20), ('Christianity;', 21), ('responsibility', 27), ('subordination,', 24), ('selfishness,', 19), ('carelessness,', 20), ('indulgence,', 20), ('disinterestedness,', 30), ('steadfastness', 21), ('yourselves,', 20), ('schoolmaster,”', 24), ('unprofitable', 24), ('consequence', 21), ('Christians?', 15), ('“authority”', 17), ('“authority”', 17), ('thoroughness,', 21), ('“persecute”', 18), ('“persecuted”', 21), ('spitefully,', 23), ('NIGHTINGALE', 19), ('differences', 20), ('differences', 20), ('improvements', 24), ('Probationers', 20), ('Probationers', 20), ('themselves,', 19), ('temperature', 19), ('consciously', 20), ('remembering', 22), ('characters,', 16), ('indispensable', 24), ('especially,', 21), ('experience?', 21), ('Probationers', 20), ('degeneration', 19), ('(intellectual,', 25), ('housemaids,', 18), ('interesting', 16), ('administration,', 25), ('punctuality;', 24), ('Probationers,', 22), ('Probationers', 20), ('narrowness,', 16), ('efficiency,', 22), ('thoroughness', 19), ('opportunities', 23), ('remembering,', 24), ('misrepresent', 20), ('indulgence,', 20), ('temptations', 18), ('jealousies,', 20), ('prejudices,', 23), ('bitternesses,', 20), ('conversation', 19), ('selfishness', 17), ('indulgence,', 20), ('friendships', 19), ('opportunity', 21), ('friendship,', 19), ('disappointments', 29), ('friendships,', 21), ('friendships,', 21), ('extravagant,', 24), ('friendship;', 19), ('circumstances;', 26), ('Probationers', 20), ('accomplished,', 26), ('eccentricity', 21), ('friendships', 19), ('sentimentalism;', 27), ('Remembering', 22), ('probationers', 20), ('improvement', 22), ('friendships', 19), ('entertainment', 20), ('womanliness', 19), ('sentimentalism;', 27), ('“transferring', 22), ('simplicity”;', 24), ('extraordinary', 25), ('superstitions', 21), ('particulars,', 21), ('introducing', 19), ('intercourse', 16), ('refinement,', 18), ('Probationers', 20), ('gentlewoman', 21), ('remembrance', 21), ('Christianity,', 21), ('comfortable,', 24), ('uncomfortable', 27), ('squandering', 22), ('detachment,', 18), ('opportunity', 21), ('indirectly,', 19), ('maintaining', 18), ('opportunities', 23), ('improvement', 22), ('probationers', 20), ('acquaintances', 25), ('advertisement', 23), ('Infirmaries', 18), ('inefficient', 19), ('“employment', 23), ('indirectly,', 19), ('civilisation', 20), ('“newspaper,”', 22), ('information', 18), ('unconsciously,', 27), ('dependencies,', 23), ('compliment,', 22), ('particularly', 24), ('unfortunately,', 27), ('‘Nightingale’', 23), ('remembering', 22), ('Probationer', 18), ('constitutes', 16), ('circumstances', 24), ('opportunities', 23), ('unimproving', 23), ('undertaken?', 18), ('weaknesses,', 18), ('inefficient,', 21), ('experience;', 21), ('Probationers,', 22), ('Probationers,', 22), ('comparatively', 28), ('disengaging', 21), ('themselves,', 19), ('“peacemakers”', 25), ('Institution', 15)]\n"
     ]
    }
   ],
   "source": [
    "lines\n",
    "xs = (\n",
    "    lines.flatMap(lambda x: PAT.split(x))\n",
    "    .filter(lambda x: len(x) > 10)\n",
    "    .map(lambda x: (x, score(x)))\n",
    ")\n",
    "xs\n",
    "print(xs.collect())"
   ]
  },
  {
   "cell_type": "code",
   "execution_count": 20,
   "id": "66e1fc6c-607c-46ff-8e36-1ba3832de464",
   "metadata": {},
   "outputs": [
    {
     "name": "stdout",
     "output_type": "stream",
     "text": [
      "+-------------+-----+\n",
      "|         word|score|\n",
      "+-------------+-----+\n",
      "|  Reflections|   18|\n",
      "|  Skyscrapers|   21|\n",
      "|  confessions|   17|\n",
      "|  Something's|   18|\n",
      "|entertainers,|   18|\n",
      "|  Truthfully,|   22|\n",
      "|  Everybody's|   23|\n",
      "|  Everybody's|   23|\n",
      "|  Everybody's|   23|\n",
      "| everywhere's|   22|\n",
      "|proclamations|   24|\n",
      "|opportunities|   23|\n",
      "|  apprehended|   20|\n",
      "|“apprehended”|   24|\n",
      "|“apprehended”|   24|\n",
      "|  Christendom|   18|\n",
      "| satisfaction|   19|\n",
      "|  irreligious|   18|\n",
      "|  irreligious|   18|\n",
      "|  discussions|   17|\n",
      "+-------------+-----+\n",
      "only showing top 20 rows\n",
      "\n"
     ]
    }
   ],
   "source": [
    "df = spark.createDataFrame(xs, [\"word\", \"score\"])\n",
    "df.show()"
   ]
  },
  {
   "cell_type": "code",
   "execution_count": 34,
   "id": "0b84bfbc-1a83-45d4-8078-8f7f38038172",
   "metadata": {},
   "outputs": [
    {
     "data": {
      "text/plain": [
       "Accumulator<id=2, value=0>"
      ]
     },
     "execution_count": 34,
     "metadata": {},
     "output_type": "execute_result"
    }
   ],
   "source": [
    "# example accumlator\n",
    "\n",
    "acc = sc.accumulator(0)\n",
    "acc"
   ]
  },
  {
   "cell_type": "code",
   "execution_count": 35,
   "id": "51f72893-240d-4252-a10c-9c1822ef7908",
   "metadata": {},
   "outputs": [],
   "source": [
    "sc.parallelize((range(0, 10))).foreach(lambda x: acc.add(x))"
   ]
  },
  {
   "cell_type": "code",
   "execution_count": 36,
   "id": "13777417-5522-4871-adc2-84fd97411b2a",
   "metadata": {},
   "outputs": [
    {
     "data": {
      "text/plain": [
       "Accumulator<id=2, value=45>"
      ]
     },
     "execution_count": 36,
     "metadata": {},
     "output_type": "execute_result"
    }
   ],
   "source": [
    "acc"
   ]
  },
  {
   "cell_type": "code",
   "execution_count": 37,
   "id": "4a7f52ec-bbce-4c05-b4a9-8ef900fbeeb1",
   "metadata": {},
   "outputs": [
    {
     "data": {
      "text/plain": [
       "45"
      ]
     },
     "execution_count": 37,
     "metadata": {},
     "output_type": "execute_result"
    }
   ],
   "source": [
    "acc.value"
   ]
  },
  {
   "cell_type": "markdown",
   "id": "a3d37170-1f50-4181-a874-584c747ff4c7",
   "metadata": {},
   "source": [
    "some transform and action"
   ]
  },
  {
   "cell_type": "code",
   "execution_count": 2,
   "id": "8e9df9fa-0039-4c74-aba2-b1cffda3fa9d",
   "metadata": {},
   "outputs": [],
   "source": [
    "from pyspark import SparkConf, SparkContext\n",
    "from pyspark.sql import SparkSession"
   ]
  },
  {
   "cell_type": "code",
   "execution_count": 3,
   "id": "ec0071b9-1fdd-46d4-a3da-db64482c0505",
   "metadata": {},
   "outputs": [],
   "source": [
    "conf = SparkConf().setAppName(\"some transform and action\")\n",
    "sc = SparkContext.getOrCreate(conf=conf)"
   ]
  },
  {
   "cell_type": "code",
   "execution_count": 13,
   "id": "474b709c-4e7c-4f93-ab89-c53267abcf88",
   "metadata": {},
   "outputs": [],
   "source": [
    "rdd = sc.parallelize(range(20), 2)\n",
    "\n",
    "# sorted(rdd.glom().collect())"
   ]
  },
  {
   "cell_type": "code",
   "execution_count": 17,
   "id": "be1c79c8-63fc-40f2-83ed-77975b85b120",
   "metadata": {},
   "outputs": [
    {
     "data": {
      "text/plain": [
       "[[0, 2, 4, 6, 8, 10, 12, 14, 16, 18], [20, 22, 24, 26, 28, 30, 32, 34, 36, 38]]"
      ]
     },
     "execution_count": 17,
     "metadata": {},
     "output_type": "execute_result"
    }
   ],
   "source": [
    "rdd.mapPartitions(lambda x: [i * 2 for i in x]).glom().collect()"
   ]
  },
  {
   "cell_type": "code",
   "execution_count": 19,
   "id": "2541ab4c-454e-44c0-b202-9c09d98985d2",
   "metadata": {},
   "outputs": [
    {
     "data": {
      "text/plain": [
       "[[0, 1, 2, 3, 4, 5, 6, 7, 8, 9], [10, 11, 12, 13, 14, 15, 16, 17, 18, 19]]"
      ]
     },
     "execution_count": 19,
     "metadata": {},
     "output_type": "execute_result"
    }
   ],
   "source": [
    "rdd.glom().collect()"
   ]
  },
  {
   "cell_type": "code",
   "execution_count": 68,
   "id": "a68558fd-51cf-4f6d-9420-d3061be13c90",
   "metadata": {},
   "outputs": [],
   "source": [
    "r_dd = sc.parallelize(range(20))"
   ]
  },
  {
   "cell_type": "code",
   "execution_count": null,
   "id": "42e14ef2-53ff-462f-934b-3baf0749ecf4",
   "metadata": {},
   "outputs": [],
   "source": []
  },
  {
   "cell_type": "code",
   "execution_count": 45,
   "id": "e944872f-9696-4862-a8b8-4b23da08a1ef",
   "metadata": {},
   "outputs": [
    {
     "data": {
      "text/plain": [
       "[[(2, '**'), (4, '****'), (2, '**'), (4, '****')],\n",
       " [(1, '*'), (3, '***'), (1, '*')]]"
      ]
     },
     "execution_count": 45,
     "metadata": {},
     "output_type": "execute_result"
    }
   ],
   "source": [
    "sets = pairs.partitionBy(2).glom().collect()\n",
    "sets"
   ]
  },
  {
   "cell_type": "code",
   "execution_count": 94,
   "id": "2b0c72b4-95b3-48c2-a186-f4dff21be81d",
   "metadata": {},
   "outputs": [
    {
     "data": {
      "text/plain": [
       "[('s', ('spark', 'scala')),\n",
       " ('a', ('airflow', 'apache storm')),\n",
       " ('h', ('hadoop',)),\n",
       " ('n', ('nghia',))]"
      ]
     },
     "execution_count": 94,
     "metadata": {},
     "output_type": "execute_result"
    }
   ],
   "source": [
    "gb = sc.parallelize([\"nghia\", \"airflow\", \"spark\", \"scala\", \"apache storm\", \"hadoop\"])\n",
    "result = gb.groupBy(lambda x: x[0]).collect()\n",
    "[(x, tuple(y)) for (x, y) in result]"
   ]
  },
  {
   "cell_type": "code",
   "execution_count": 95,
   "id": "771f01c9-4e28-4fdc-8641-77477214e2ab",
   "metadata": {},
   "outputs": [
    {
     "data": {
      "text/plain": [
       "[(0, <pyspark.resultiterable.ResultIterable at 0x7f54975b65e0>),\n",
       " (1, <pyspark.resultiterable.ResultIterable at 0x7f5497b22af0>)]"
      ]
     },
     "execution_count": 95,
     "metadata": {},
     "output_type": "execute_result"
    }
   ],
   "source": [
    "rdd = sc.parallelize([1, 1, 2, 3, 5, 8])\n",
    "result = rdd.groupBy(lambda x: x % 2).collect()\n",
    "result\n",
    "# sorted([(x, sorted(y)) for (x, y) in result])"
   ]
  },
  {
   "cell_type": "code",
   "execution_count": 48,
   "id": "7eb6a72b-e617-4934-9713-4b891444ab6b",
   "metadata": {},
   "outputs": [
    {
     "name": "stdout",
     "output_type": "stream",
     "text": [
      "+---------------+-----+\n",
      "|           name|bonus|\n",
      "+---------------+-----+\n",
      "|    James,Smith|300.0|\n",
      "|      Anna,Rose|410.0|\n",
      "|Robert,Williams|620.0|\n",
      "+---------------+-----+\n",
      "\n"
     ]
    }
   ],
   "source": []
  },
  {
   "cell_type": "code",
   "execution_count": null,
   "id": "99ff8e16-4d07-4575-9086-e8b93fe28fd3",
   "metadata": {},
   "outputs": [],
   "source": []
  }
 ],
 "metadata": {
  "kernelspec": {
   "display_name": "Python 3.8.6  ('.venv': venv)",
   "language": "python",
   "name": "pythonjvsc74a57bd00ee8c4bb566078ea78d324e2cfeab9cdcd4f0e1c52c57f49c8d2c712b5095e94"
  },
  "language_info": {
   "codemirror_mode": {
    "name": "ipython",
    "version": 3
   },
   "file_extension": ".py",
   "mimetype": "text/x-python",
   "name": "python",
   "nbconvert_exporter": "python",
   "pygments_lexer": "ipython3",
   "version": "3.8.6"
  }
 },
 "nbformat": 4,
 "nbformat_minor": 5
}
