{
 "cells": [
  {
   "cell_type": "markdown",
   "id": "6f59e046-08d6-4c90-9e6e-667710e259d2",
   "metadata": {},
   "source": [
    "rdd in practice from https://github.com/jadianes/spark-py-notebooks"
   ]
  },
  {
   "cell_type": "code",
   "execution_count": 1,
   "id": "f36f3547-cafe-4f2e-a928-631c89dd6104",
   "metadata": {},
   "outputs": [],
   "source": [
    "from pyspark import SparkConf, SparkContext\n"
   ]
  },
  {
   "cell_type": "code",
   "execution_count": 2,
   "id": "9bea2c61-8fc0-428a-82c6-1d58ff21d78c",
   "metadata": {},
   "outputs": [
    {
     "ename": "Exception",
     "evalue": "Java gateway process exited before sending its port number",
     "output_type": "error",
     "traceback": [
      "\u001b[0;31m---------------------------------------------------------------------------\u001b[0m",
      "\u001b[0;31mException\u001b[0m                                 Traceback (most recent call last)",
      "\u001b[0;32m<ipython-input-2-f0b12ad1ef70>\u001b[0m in \u001b[0;36m<module>\u001b[0;34m\u001b[0m\n\u001b[1;32m      1\u001b[0m \u001b[0mconf\u001b[0m \u001b[0;34m=\u001b[0m \u001b[0mSparkConf\u001b[0m\u001b[0;34m(\u001b[0m\u001b[0;34m)\u001b[0m\u001b[0;34m.\u001b[0m\u001b[0msetAppName\u001b[0m\u001b[0;34m(\u001b[0m\u001b[0;34m\"RDD_doc_notes\"\u001b[0m\u001b[0;34m)\u001b[0m\u001b[0;34m\u001b[0m\u001b[0;34m\u001b[0m\u001b[0m\n\u001b[0;32m----> 2\u001b[0;31m \u001b[0msc\u001b[0m \u001b[0;34m=\u001b[0m \u001b[0mSparkContext\u001b[0m\u001b[0;34m.\u001b[0m\u001b[0mgetOrCreate\u001b[0m\u001b[0;34m(\u001b[0m\u001b[0mconf\u001b[0m\u001b[0;34m=\u001b[0m\u001b[0mconf\u001b[0m\u001b[0;34m)\u001b[0m\u001b[0;34m\u001b[0m\u001b[0;34m\u001b[0m\u001b[0m\n\u001b[0m\u001b[1;32m      3\u001b[0m \u001b[0msc\u001b[0m\u001b[0;34m\u001b[0m\u001b[0;34m\u001b[0m\u001b[0m\n",
      "\u001b[0;32m~/pyspark/mastering-large-datasets/.venv/lib/python3.8/site-packages/pyspark/context.py\u001b[0m in \u001b[0;36mgetOrCreate\u001b[0;34m(cls, conf)\u001b[0m\n\u001b[1;32m    382\u001b[0m         \u001b[0;32mwith\u001b[0m \u001b[0mSparkContext\u001b[0m\u001b[0;34m.\u001b[0m\u001b[0m_lock\u001b[0m\u001b[0;34m:\u001b[0m\u001b[0;34m\u001b[0m\u001b[0;34m\u001b[0m\u001b[0m\n\u001b[1;32m    383\u001b[0m             \u001b[0;32mif\u001b[0m \u001b[0mSparkContext\u001b[0m\u001b[0;34m.\u001b[0m\u001b[0m_active_spark_context\u001b[0m \u001b[0;32mis\u001b[0m \u001b[0;32mNone\u001b[0m\u001b[0;34m:\u001b[0m\u001b[0;34m\u001b[0m\u001b[0;34m\u001b[0m\u001b[0m\n\u001b[0;32m--> 384\u001b[0;31m                 \u001b[0mSparkContext\u001b[0m\u001b[0;34m(\u001b[0m\u001b[0mconf\u001b[0m\u001b[0;34m=\u001b[0m\u001b[0mconf\u001b[0m \u001b[0;32mor\u001b[0m \u001b[0mSparkConf\u001b[0m\u001b[0;34m(\u001b[0m\u001b[0;34m)\u001b[0m\u001b[0;34m)\u001b[0m\u001b[0;34m\u001b[0m\u001b[0;34m\u001b[0m\u001b[0m\n\u001b[0m\u001b[1;32m    385\u001b[0m             \u001b[0;32mreturn\u001b[0m \u001b[0mSparkContext\u001b[0m\u001b[0;34m.\u001b[0m\u001b[0m_active_spark_context\u001b[0m\u001b[0;34m\u001b[0m\u001b[0;34m\u001b[0m\u001b[0m\n\u001b[1;32m    386\u001b[0m \u001b[0;34m\u001b[0m\u001b[0m\n",
      "\u001b[0;32m~/pyspark/mastering-large-datasets/.venv/lib/python3.8/site-packages/pyspark/context.py\u001b[0m in \u001b[0;36m__init__\u001b[0;34m(self, master, appName, sparkHome, pyFiles, environment, batchSize, serializer, conf, gateway, jsc, profiler_cls)\u001b[0m\n\u001b[1;32m    142\u001b[0m                 \" is not allowed as it is a security risk.\")\n\u001b[1;32m    143\u001b[0m \u001b[0;34m\u001b[0m\u001b[0m\n\u001b[0;32m--> 144\u001b[0;31m         \u001b[0mSparkContext\u001b[0m\u001b[0;34m.\u001b[0m\u001b[0m_ensure_initialized\u001b[0m\u001b[0;34m(\u001b[0m\u001b[0mself\u001b[0m\u001b[0;34m,\u001b[0m \u001b[0mgateway\u001b[0m\u001b[0;34m=\u001b[0m\u001b[0mgateway\u001b[0m\u001b[0;34m,\u001b[0m \u001b[0mconf\u001b[0m\u001b[0;34m=\u001b[0m\u001b[0mconf\u001b[0m\u001b[0;34m)\u001b[0m\u001b[0;34m\u001b[0m\u001b[0;34m\u001b[0m\u001b[0m\n\u001b[0m\u001b[1;32m    145\u001b[0m         \u001b[0;32mtry\u001b[0m\u001b[0;34m:\u001b[0m\u001b[0;34m\u001b[0m\u001b[0;34m\u001b[0m\u001b[0m\n\u001b[1;32m    146\u001b[0m             self._do_init(master, appName, sparkHome, pyFiles, environment, batchSize, serializer,\n",
      "\u001b[0;32m~/pyspark/mastering-large-datasets/.venv/lib/python3.8/site-packages/pyspark/context.py\u001b[0m in \u001b[0;36m_ensure_initialized\u001b[0;34m(cls, instance, gateway, conf)\u001b[0m\n\u001b[1;32m    329\u001b[0m         \u001b[0;32mwith\u001b[0m \u001b[0mSparkContext\u001b[0m\u001b[0;34m.\u001b[0m\u001b[0m_lock\u001b[0m\u001b[0;34m:\u001b[0m\u001b[0;34m\u001b[0m\u001b[0;34m\u001b[0m\u001b[0m\n\u001b[1;32m    330\u001b[0m             \u001b[0;32mif\u001b[0m \u001b[0;32mnot\u001b[0m \u001b[0mSparkContext\u001b[0m\u001b[0;34m.\u001b[0m\u001b[0m_gateway\u001b[0m\u001b[0;34m:\u001b[0m\u001b[0;34m\u001b[0m\u001b[0;34m\u001b[0m\u001b[0m\n\u001b[0;32m--> 331\u001b[0;31m                 \u001b[0mSparkContext\u001b[0m\u001b[0;34m.\u001b[0m\u001b[0m_gateway\u001b[0m \u001b[0;34m=\u001b[0m \u001b[0mgateway\u001b[0m \u001b[0;32mor\u001b[0m \u001b[0mlaunch_gateway\u001b[0m\u001b[0;34m(\u001b[0m\u001b[0mconf\u001b[0m\u001b[0;34m)\u001b[0m\u001b[0;34m\u001b[0m\u001b[0;34m\u001b[0m\u001b[0m\n\u001b[0m\u001b[1;32m    332\u001b[0m                 \u001b[0mSparkContext\u001b[0m\u001b[0;34m.\u001b[0m\u001b[0m_jvm\u001b[0m \u001b[0;34m=\u001b[0m \u001b[0mSparkContext\u001b[0m\u001b[0;34m.\u001b[0m\u001b[0m_gateway\u001b[0m\u001b[0;34m.\u001b[0m\u001b[0mjvm\u001b[0m\u001b[0;34m\u001b[0m\u001b[0;34m\u001b[0m\u001b[0m\n\u001b[1;32m    333\u001b[0m \u001b[0;34m\u001b[0m\u001b[0m\n",
      "\u001b[0;32m~/pyspark/mastering-large-datasets/.venv/lib/python3.8/site-packages/pyspark/java_gateway.py\u001b[0m in \u001b[0;36mlaunch_gateway\u001b[0;34m(conf, popen_kwargs)\u001b[0m\n\u001b[1;32m    106\u001b[0m \u001b[0;34m\u001b[0m\u001b[0m\n\u001b[1;32m    107\u001b[0m             \u001b[0;32mif\u001b[0m \u001b[0;32mnot\u001b[0m \u001b[0mos\u001b[0m\u001b[0;34m.\u001b[0m\u001b[0mpath\u001b[0m\u001b[0;34m.\u001b[0m\u001b[0misfile\u001b[0m\u001b[0;34m(\u001b[0m\u001b[0mconn_info_file\u001b[0m\u001b[0;34m)\u001b[0m\u001b[0;34m:\u001b[0m\u001b[0;34m\u001b[0m\u001b[0;34m\u001b[0m\u001b[0m\n\u001b[0;32m--> 108\u001b[0;31m                 \u001b[0;32mraise\u001b[0m \u001b[0mException\u001b[0m\u001b[0;34m(\u001b[0m\u001b[0;34m\"Java gateway process exited before sending its port number\"\u001b[0m\u001b[0;34m)\u001b[0m\u001b[0;34m\u001b[0m\u001b[0;34m\u001b[0m\u001b[0m\n\u001b[0m\u001b[1;32m    109\u001b[0m \u001b[0;34m\u001b[0m\u001b[0m\n\u001b[1;32m    110\u001b[0m             \u001b[0;32mwith\u001b[0m \u001b[0mopen\u001b[0m\u001b[0;34m(\u001b[0m\u001b[0mconn_info_file\u001b[0m\u001b[0;34m,\u001b[0m \u001b[0;34m\"rb\"\u001b[0m\u001b[0;34m)\u001b[0m \u001b[0;32mas\u001b[0m \u001b[0minfo\u001b[0m\u001b[0;34m:\u001b[0m\u001b[0;34m\u001b[0m\u001b[0;34m\u001b[0m\u001b[0m\n",
      "\u001b[0;31mException\u001b[0m: Java gateway process exited before sending its port number"
     ]
    }
   ],
   "source": [
    "conf = SparkConf().setAppName(\"RDD_doc_notes\")\n",
    "sc = SparkContext.getOrCreate(conf=conf)\n",
    "sc"
   ]
  },
  {
   "cell_type": "code",
   "execution_count": 3,
   "id": "9e5876c6",
   "metadata": {},
   "outputs": [],
   "source": [
    "import urllib\n",
    "\n",
    "f = urllib.request.urlretrieve(\n",
    "    \"http://kdd.ics.uci.edu/databases/kddcup99/kddcup.data_10_percent.gz\",\n",
    "    \"kddcup.data_10_percent.gz\",\n",
    ")"
   ]
  },
  {
   "cell_type": "code",
   "execution_count": null,
   "id": "b0704a0f",
   "metadata": {},
   "outputs": [],
   "source": []
  },
  {
   "cell_type": "code",
   "execution_count": 35,
   "id": "e3d37a9d",
   "metadata": {},
   "outputs": [],
   "source": [
    "data_file = \"./kddcup.data_10_percent.gz\"\n",
    "raw_data = sc.textFile(data_file)"
   ]
  },
  {
   "cell_type": "code",
   "execution_count": 36,
   "id": "4ccf062a-c07a-4871-986b-2b3a5f3a1131",
   "metadata": {},
   "outputs": [
    {
     "data": {
      "text/plain": [
       "494021"
      ]
     },
     "execution_count": 36,
     "metadata": {},
     "output_type": "execute_result"
    }
   ],
   "source": [
    "raw_data.count()"
   ]
  },
  {
   "cell_type": "code",
   "execution_count": 37,
   "id": "88fee5d0-5de7-4cac-9808-2632c74b68c1",
   "metadata": {},
   "outputs": [
    {
     "data": {
      "text/plain": [
       "['0,tcp,http,SF,181,5450,0,0,0,0,0,1,0,0,0,0,0,0,0,0,0,0,8,8,0.00,0.00,0.00,0.00,1.00,0.00,0.00,9,9,1.00,0.00,0.11,0.00,0.00,0.00,0.00,0.00,normal.',\n",
       " '0,tcp,http,SF,239,486,0,0,0,0,0,1,0,0,0,0,0,0,0,0,0,0,8,8,0.00,0.00,0.00,0.00,1.00,0.00,0.00,19,19,1.00,0.00,0.05,0.00,0.00,0.00,0.00,0.00,normal.',\n",
       " '0,tcp,http,SF,235,1337,0,0,0,0,0,1,0,0,0,0,0,0,0,0,0,0,8,8,0.00,0.00,0.00,0.00,1.00,0.00,0.00,29,29,1.00,0.00,0.03,0.00,0.00,0.00,0.00,0.00,normal.',\n",
       " '0,tcp,http,SF,219,1337,0,0,0,0,0,1,0,0,0,0,0,0,0,0,0,0,6,6,0.00,0.00,0.00,0.00,1.00,0.00,0.00,39,39,1.00,0.00,0.03,0.00,0.00,0.00,0.00,0.00,normal.',\n",
       " '0,tcp,http,SF,217,2032,0,0,0,0,0,1,0,0,0,0,0,0,0,0,0,0,6,6,0.00,0.00,0.00,0.00,1.00,0.00,0.00,49,49,1.00,0.00,0.02,0.00,0.00,0.00,0.00,0.00,normal.',\n",
       " '0,tcp,http,SF,217,2032,0,0,0,0,0,1,0,0,0,0,0,0,0,0,0,0,6,6,0.00,0.00,0.00,0.00,1.00,0.00,0.00,59,59,1.00,0.00,0.02,0.00,0.00,0.00,0.00,0.00,normal.',\n",
       " '0,tcp,http,SF,212,1940,0,0,0,0,0,1,0,0,0,0,0,0,0,0,0,0,1,2,0.00,0.00,0.00,0.00,1.00,0.00,1.00,1,69,1.00,0.00,1.00,0.04,0.00,0.00,0.00,0.00,normal.',\n",
       " '0,tcp,http,SF,159,4087,0,0,0,0,0,1,0,0,0,0,0,0,0,0,0,0,5,5,0.00,0.00,0.00,0.00,1.00,0.00,0.00,11,79,1.00,0.00,0.09,0.04,0.00,0.00,0.00,0.00,normal.',\n",
       " '0,tcp,http,SF,210,151,0,0,0,0,0,1,0,0,0,0,0,0,0,0,0,0,8,8,0.00,0.00,0.00,0.00,1.00,0.00,0.00,8,89,1.00,0.00,0.12,0.04,0.00,0.00,0.00,0.00,normal.',\n",
       " '0,tcp,http,SF,212,786,0,0,0,1,0,1,0,0,0,0,0,0,0,0,0,0,8,8,0.00,0.00,0.00,0.00,1.00,0.00,0.00,8,99,1.00,0.00,0.12,0.05,0.00,0.00,0.00,0.00,normal.']"
      ]
     },
     "execution_count": 37,
     "metadata": {},
     "output_type": "execute_result"
    }
   ],
   "source": [
    "raw_data.take(10)"
   ]
  },
  {
   "cell_type": "markdown",
   "id": "ccd2f4de-389c-4697-9ec0-7da8846c1436",
   "metadata": {},
   "source": [
    "The filter transformation"
   ]
  },
  {
   "cell_type": "code",
   "execution_count": 46,
   "id": "e1a44dbc-2e45-4f68-b74e-217207a2e9b1",
   "metadata": {},
   "outputs": [],
   "source": [
    "normal_raw_data = raw_data.filter(lambda x: \"normal.\" in x)\n",
    "# normal_raw_data.take(2)"
   ]
  },
  {
   "cell_type": "markdown",
   "id": "150e5acb-fde5-440d-9b20-4864e5b20bfe",
   "metadata": {},
   "source": [
    "notebook 5 years ago: from filter --> time count action: 5.951 seconds\n",
    "this notebook:\n",
    "- from filter -> take(2) -> time count action : 1.068s\n",
    "- from filter -> time count action: 1.016 s\n",
    "--> basically still not understand what different if we call 1 action before the next action."
   ]
  },
  {
   "cell_type": "code",
   "execution_count": 47,
   "id": "107c8dc5-643a-45e3-a04b-db9d8560be25",
   "metadata": {},
   "outputs": [
    {
     "name": "stdout",
     "output_type": "stream",
     "text": [
      "There are 97278 'normal' interactions\n",
      "Count completed in 1.016 seconds\n"
     ]
    }
   ],
   "source": [
    "from time import perf_counter\n",
    "\n",
    "t0 = perf_counter()\n",
    "normal_count = normal_raw_data.count()\n",
    "tt = perf_counter() - t0\n",
    "print(\"There are {} 'normal' interactions\".format(normal_count))\n",
    "print(\"Count completed in {} seconds\".format(round(tt, 3)))"
   ]
  },
  {
   "cell_type": "markdown",
   "id": "b907c320-65f2-418e-bdd8-c474cbdeb3ab",
   "metadata": {},
   "source": [
    "\n",
    "The map transformation"
   ]
  },
  {
   "cell_type": "code",
   "execution_count": 49,
   "id": "c5834d6f-e356-4d7a-a9c3-21cde3571b62",
   "metadata": {},
   "outputs": [
    {
     "name": "stdout",
     "output_type": "stream",
     "text": [
      "Parse completed in 0.076 seconds\n",
      "['0',\n",
      " 'tcp',\n",
      " 'http',\n",
      " 'SF',\n",
      " '181',\n",
      " '5450',\n",
      " '0',\n",
      " '0',\n",
      " '0',\n",
      " '0',\n",
      " '0',\n",
      " '1',\n",
      " '0',\n",
      " '0',\n",
      " '0',\n",
      " '0',\n",
      " '0',\n",
      " '0',\n",
      " '0',\n",
      " '0',\n",
      " '0',\n",
      " '0',\n",
      " '8',\n",
      " '8',\n",
      " '0.00',\n",
      " '0.00',\n",
      " '0.00',\n",
      " '0.00',\n",
      " '1.00',\n",
      " '0.00',\n",
      " '0.00',\n",
      " '9',\n",
      " '9',\n",
      " '1.00',\n",
      " '0.00',\n",
      " '0.11',\n",
      " '0.00',\n",
      " '0.00',\n",
      " '0.00',\n",
      " '0.00',\n",
      " '0.00',\n",
      " 'normal.']\n"
     ]
    }
   ],
   "source": [
    "from pprint import pprint\n",
    "\n",
    "csv_data = raw_data.map(lambda x: x.split(\",\"))\n",
    "t0 = perf_counter()\n",
    "head_rows = csv_data.take(5)\n",
    "tt = perf_counter() - t0\n",
    "print(\"Parse completed in {} seconds\".format(round(tt, 3)))\n",
    "pprint(head_rows[0])"
   ]
  },
  {
   "cell_type": "code",
   "execution_count": 50,
   "id": "888b4d62-34bf-4d3d-9df3-9b93da7ce09b",
   "metadata": {},
   "outputs": [
    {
     "name": "stdout",
     "output_type": "stream",
     "text": [
      "Parse completed in 1.642 seconds\n"
     ]
    }
   ],
   "source": [
    "t0 = perf_counter()\n",
    "head_rows = csv_data.take(100000)\n",
    "tt = perf_counter() - t0\n",
    "print(\"Parse completed in {} seconds\".format(round(tt, 3)))"
   ]
  },
  {
   "cell_type": "code",
   "execution_count": 51,
   "id": "e58581fd-deab-4862-ae0d-b1bf1eeeaf93",
   "metadata": {},
   "outputs": [
    {
     "name": "stdout",
     "output_type": "stream",
     "text": [
      "('normal.',\n",
      " ['0',\n",
      "  'tcp',\n",
      "  'http',\n",
      "  'SF',\n",
      "  '181',\n",
      "  '5450',\n",
      "  '0',\n",
      "  '0',\n",
      "  '0',\n",
      "  '0',\n",
      "  '0',\n",
      "  '1',\n",
      "  '0',\n",
      "  '0',\n",
      "  '0',\n",
      "  '0',\n",
      "  '0',\n",
      "  '0',\n",
      "  '0',\n",
      "  '0',\n",
      "  '0',\n",
      "  '0',\n",
      "  '8',\n",
      "  '8',\n",
      "  '0.00',\n",
      "  '0.00',\n",
      "  '0.00',\n",
      "  '0.00',\n",
      "  '1.00',\n",
      "  '0.00',\n",
      "  '0.00',\n",
      "  '9',\n",
      "  '9',\n",
      "  '1.00',\n",
      "  '0.00',\n",
      "  '0.11',\n",
      "  '0.00',\n",
      "  '0.00',\n",
      "  '0.00',\n",
      "  '0.00',\n",
      "  '0.00',\n",
      "  'normal.'])\n"
     ]
    }
   ],
   "source": [
    "def parse_interaction(line):\n",
    "    elems = line.split(\",\")\n",
    "    tag = elems[41]\n",
    "    return (tag, elems)\n",
    "\n",
    "\n",
    "key_csv_data = raw_data.map(parse_interaction)\n",
    "head_rows = key_csv_data.take(5)\n",
    "pprint(head_rows[0])"
   ]
  },
  {
   "cell_type": "code",
   "execution_count": 52,
   "id": "108f37c5-3157-4d7c-841b-9e8c1be99d51",
   "metadata": {},
   "outputs": [
    {
     "name": "stdout",
     "output_type": "stream",
     "text": [
      "Data collected in 2.936 seconds\n"
     ]
    }
   ],
   "source": [
    "t0 = perf_counter()\n",
    "all_raw_data = raw_data.collect()\n",
    "tt = perf_counter() - t0\n",
    "print(\"Data collected in {} seconds\".format(round(tt, 3)))"
   ]
  },
  {
   "cell_type": "code",
   "execution_count": 53,
   "id": "257b28c2-a33d-4912-aa92-93927a54f595",
   "metadata": {},
   "outputs": [
    {
     "name": "stdout",
     "output_type": "stream",
     "text": [
      "Data collected in 3.534 seconds\n",
      "There are 97278 'normal' interactions\n"
     ]
    }
   ],
   "source": [
    "# get normal interaction as key\n",
    "\n",
    "\n",
    "normal_key_interactions = key_csv_data.filter(lambda x: x[0] == \"normal.\")\n",
    "\n",
    "# collect all\n",
    "t0 = perf_counter()\n",
    "all_normal = normal_key_interactions.collect()\n",
    "tt = perf_counter() - t0\n",
    "normal_count = len(all_normal)\n",
    "print(\"Data collected in {} seconds\".format(round(tt, 3)))\n",
    "print(\"There are {} 'normal' interactions\".format(normal_count))"
   ]
  },
  {
   "cell_type": "markdown",
   "id": "94a6b600-20f2-4268-9eac-d227a8f88506",
   "metadata": {},
   "source": [
    "# Sampling RDDs"
   ]
  },
  {
   "cell_type": "markdown",
   "id": "662563c7-d572-4b72-b0f3-63209180c211",
   "metadata": {},
   "source": [
    "## The sample transformation, apply successive transformation on a sample of data"
   ]
  },
  {
   "cell_type": "code",
   "execution_count": 56,
   "id": "d96418f0-4abd-4a47-befa-8de8fb2d9fee",
   "metadata": {},
   "outputs": [
    {
     "name": "stdout",
     "output_type": "stream",
     "text": [
      "Sample size is 49493 of 494021\n"
     ]
    }
   ],
   "source": [
    "raw_data_sample = raw_data.sample(False, 0.1, 1234)\n",
    "sample_size = raw_data_sample.count()\n",
    "total_size = raw_data.count()\n",
    "print(\"Sample size is {} of {}\".format(sample_size, total_size))"
   ]
  },
  {
   "cell_type": "code",
   "execution_count": 58,
   "id": "148574b7-8035-460d-8340-54469c1adc95",
   "metadata": {},
   "outputs": [
    {
     "name": "stdout",
     "output_type": "stream",
     "text": [
      "The ratio of 'normal' interactions is 0.195\n",
      "Count done in 1.198 seconds\n"
     ]
    }
   ],
   "source": [
    "# transformations to be applied\n",
    "raw_data_sample_items = raw_data_sample.map(lambda x: x.split(\",\"))\n",
    "sample_normal_tags = raw_data_sample_items.filter(lambda x: \"normal.\" in x)\n",
    "\n",
    "# actions + time\n",
    "t0 = perf_counter()\n",
    "sample_normal_tags_count = sample_normal_tags.count()\n",
    "tt = perf_counter() - t0\n",
    "\n",
    "sample_normal_ratio = sample_normal_tags_count / float(sample_size)\n",
    "print(\"The ratio of 'normal' interactions is {}\".format(round(sample_normal_ratio, 3)))\n",
    "print(\"Count done in {} seconds\".format(round(tt, 3)))"
   ]
  },
  {
   "cell_type": "code",
   "execution_count": 63,
   "id": "ac8e1c46-01e8-4043-8633-0e1b2e2cc817",
   "metadata": {},
   "outputs": [
    {
     "name": "stdout",
     "output_type": "stream",
     "text": [
      "The ratio of 'normal' interactions is 0.197\n",
      "Count done in 2.156 seconds\n"
     ]
    }
   ],
   "source": [
    "# without sample\n",
    "# problem is sample will maintain the ratio of different label ??\n",
    "\n",
    "# transformations to be applied\n",
    "\n",
    "\n",
    "# actions + time\n",
    "t0 = perf_counter()\n",
    "normal_tags_count = (\n",
    "    raw_data.map(lambda x: x.split(\",\")).filter(lambda x: \"normal.\" in x).count()\n",
    ")\n",
    "tt = perf_counter() - t0\n",
    "\n",
    "normal_ratio = normal_tags_count / float(total_size)\n",
    "print(\"The ratio of 'normal' interactions is {}\".format(round(normal_ratio, 3)))\n",
    "print(\"Count done in {} seconds\".format(round(tt, 3)))"
   ]
  },
  {
   "cell_type": "markdown",
   "id": "a6173747-e5bc-4d79-a6ac-0b7f642fea9b",
   "metadata": {},
   "source": [
    "## The takeSample action"
   ]
  },
  {
   "cell_type": "code",
   "execution_count": 64,
   "id": "cd41fa4a-6f12-4123-a6ae-edffb0dd4ff8",
   "metadata": {},
   "outputs": [
    {
     "name": "stdout",
     "output_type": "stream",
     "text": [
      "The ratio of 'normal' interactions is 0.1967175\n",
      "Count done in 4.016 seconds\n"
     ]
    }
   ],
   "source": [
    "t0 = perf_counter()\n",
    "raw_data_sample = raw_data.takeSample(False, 400000, 1234)\n",
    "normal_data_sample = [x.split(\",\") for x in raw_data_sample if \"normal.\" in x]\n",
    "tt = perf_counter() - t0\n",
    "\n",
    "normal_sample_size = len(normal_data_sample)\n",
    "\n",
    "normal_ratio = normal_sample_size / 400000.0\n",
    "print(\"The ratio of 'normal' interactions is {}\".format(normal_ratio))\n",
    "print(\"Count done in {} seconds\".format(round(tt, 3)))"
   ]
  },
  {
   "cell_type": "markdown",
   "id": "1d62dfa9-7881-41ff-9dce-d124a3e3c512",
   "metadata": {},
   "source": [
    "# Set operations on RDDs"
   ]
  },
  {
   "cell_type": "code",
   "execution_count": 77,
   "id": "cf5dd54b-b8be-48eb-ab07-b86ba7bcac26",
   "metadata": {},
   "outputs": [],
   "source": [
    "normal_raw_data = raw_data.filter(lambda x: \"normal.\" in x)\n",
    "\n",
    "attack_raw_data = raw_data.subtract(normal_raw_data)"
   ]
  },
  {
   "cell_type": "code",
   "execution_count": 78,
   "id": "a87e4a73-f28b-4f80-94db-82612fa4f402",
   "metadata": {},
   "outputs": [
    {
     "name": "stdout",
     "output_type": "stream",
     "text": [
      "All count in 0.796 secs\n"
     ]
    }
   ],
   "source": [
    "# count all\n",
    "t0 = perf_counter()\n",
    "raw_data_count = raw_data.count()\n",
    "tt = perf_counter() - t0\n",
    "print(\"All count in {} secs\".format(round(tt, 3)))"
   ]
  },
  {
   "cell_type": "code",
   "execution_count": 79,
   "id": "18972b50-b27b-43d6-a146-875c50f91a59",
   "metadata": {},
   "outputs": [
    {
     "name": "stdout",
     "output_type": "stream",
     "text": [
      "All count in 1.021 secs\n"
     ]
    }
   ],
   "source": [
    "# count normal\n",
    "t0 = perf_counter()\n",
    "normal_data_count = normal_raw_data.count()\n",
    "tt = perf_counter() - t0\n",
    "print(\"All count in {} secs\".format(round(tt, 3)))"
   ]
  },
  {
   "cell_type": "code",
   "execution_count": 80,
   "id": "c042a1b7-c3f1-4986-b16f-8636fc0bd2b9",
   "metadata": {},
   "outputs": [
    {
     "name": "stdout",
     "output_type": "stream",
     "text": [
      "All count in 4.764 secs\n"
     ]
    }
   ],
   "source": [
    "# count attack\n",
    "t0 = perf_counter()\n",
    "attack_data_count = attack_raw_data.count()\n",
    "tt = perf_counter() - t0\n",
    "print(\"All count in {} secs\".format(round(tt, 3)))"
   ]
  },
  {
   "cell_type": "code",
   "execution_count": 82,
   "id": "4d2ae637-c0c0-4650-adac-0f74a1fd8209",
   "metadata": {},
   "outputs": [
    {
     "name": "stdout",
     "output_type": "stream",
     "text": [
      "There are 97278 normal interactions and 396743 attacks, from a total of 494021 interactions\n"
     ]
    }
   ],
   "source": [
    "print(\n",
    "    \"There are {} normal interactions and {} attacks, \\\n",
    "from a total of {} interactions\".format(\n",
    "        normal_data_count, attack_data_count, raw_data_count\n",
    "    )\n",
    ")"
   ]
  },
  {
   "cell_type": "markdown",
   "id": "a892d74e-5bf1-4f29-a963-32c513cfd1ff",
   "metadata": {},
   "source": [
    "# Data aggregations on RDDs\n"
   ]
  },
  {
   "cell_type": "code",
   "execution_count": 83,
   "id": "83d4f3df-41a7-4d43-83be-ae694f98f615",
   "metadata": {},
   "outputs": [],
   "source": [
    "normal_duration_data = (\n",
    "    raw_data.map(lambda x: x.split(\",\"))\n",
    "    .filter(lambda x: x[41] == \"normal.\")\n",
    "    .map(lambda x: int(x[0]))\n",
    ")\n",
    "\n",
    "attack_duration_data = (\n",
    "    raw_data.map(lambda x: x.split(\",\"))\n",
    "    .filter(lambda x: x[41] != \"normal.\")\n",
    "    .map(lambda x: int(x[0]))\n",
    ")"
   ]
  },
  {
   "cell_type": "code",
   "execution_count": 90,
   "id": "1f20115f-4585-417c-85cc-c2fe0d70d201",
   "metadata": {},
   "outputs": [
    {
     "name": "stdout",
     "output_type": "stream",
     "text": [
      "Mean duration for 'normal' interactions is 216.657\n"
     ]
    }
   ],
   "source": [
    "normal_sum_count = normal_duration_data.aggregate(\n",
    "    (0, 0),\n",
    "    lambda acc, value: (acc[0] + 1, acc[1] + value),\n",
    "    lambda acc1, acc2: (acc1[0] + acc2[0], acc1[1] + acc2[1]),\n",
    ")\n",
    "\n",
    "print(\n",
    "    \"Mean duration for 'normal' interactions is {}\".format(\n",
    "        round(normal_sum_count[1] / float(normal_sum_count[0]), 3)\n",
    "    )\n",
    ")"
   ]
  },
  {
   "cell_type": "code",
   "execution_count": 89,
   "id": "cfc9519d-1287-482a-b51c-941132d3a95a",
   "metadata": {},
   "outputs": [
    {
     "data": {
      "text/plain": [
       "(97278, 21075991)"
      ]
     },
     "execution_count": 89,
     "metadata": {},
     "output_type": "execute_result"
    }
   ],
   "source": []
  },
  {
   "cell_type": "code",
   "execution_count": 93,
   "id": "d52a4fb5-12b1-4a84-860b-2b63912343d1",
   "metadata": {},
   "outputs": [
    {
     "name": "stdout",
     "output_type": "stream",
     "text": [
      "Mean duration for 'normal' interactions is 6.621\n"
     ]
    }
   ],
   "source": [
    "attack_sum_count = attack_duration_data.aggregate(\n",
    "    (0, 0),\n",
    "    lambda acc, value: (acc[0] + 1, acc[1] + value),\n",
    "    lambda acc1, acc2: (acc1[0] + acc2[0], acc1[1] + acc2[1]),\n",
    ")\n",
    "\n",
    "print(\n",
    "    \"Mean duration for 'normal' interactions is {}\".format(\n",
    "        round(attack_sum_count[1] / float(attack_sum_count[0]), 3)\n",
    "    )\n",
    ")"
   ]
  },
  {
   "cell_type": "markdown",
   "id": "2e539754-d45a-484d-9cd4-66aa3b1ee652",
   "metadata": {},
   "source": [
    "# Working with key/value pair RDDs"
   ]
  },
  {
   "cell_type": "code",
   "execution_count": 94,
   "id": "c8caf548-77a5-4756-9f54-82d97324d380",
   "metadata": {},
   "outputs": [],
   "source": [
    "tag_duration_kv_pair = raw_data.map(lambda x: x.split(\",\")).map(\n",
    "    lambda x: (x[41], float(x[0]))\n",
    ")"
   ]
  },
  {
   "cell_type": "code",
   "execution_count": 95,
   "id": "1e9cefa4-8f6c-4542-b724-62076d6fc83a",
   "metadata": {},
   "outputs": [
    {
     "data": {
      "text/plain": [
       "defaultdict(int,\n",
       "            {'normal.': 97278,\n",
       "             'buffer_overflow.': 30,\n",
       "             'loadmodule.': 9,\n",
       "             'perl.': 3,\n",
       "             'neptune.': 107201,\n",
       "             'smurf.': 280790,\n",
       "             'guess_passwd.': 53,\n",
       "             'pod.': 264,\n",
       "             'teardrop.': 979,\n",
       "             'portsweep.': 1040,\n",
       "             'ipsweep.': 1247,\n",
       "             'land.': 21,\n",
       "             'ftp_write.': 8,\n",
       "             'back.': 2203,\n",
       "             'imap.': 12,\n",
       "             'satan.': 1589,\n",
       "             'phf.': 4,\n",
       "             'nmap.': 231,\n",
       "             'multihop.': 7,\n",
       "             'warezmaster.': 20,\n",
       "             'warezclient.': 1020,\n",
       "             'spy.': 2,\n",
       "             'rootkit.': 10})"
      ]
     },
     "execution_count": 95,
     "metadata": {},
     "output_type": "execute_result"
    }
   ],
   "source": [
    "tag_duration_kv_pair.countByKey()"
   ]
  },
  {
   "cell_type": "code",
   "execution_count": 97,
   "id": "5c8b3d5c-be78-4c42-be34-5b39448ffb4b",
   "metadata": {},
   "outputs": [
    {
     "data": {
      "text/plain": [
       "[('normal.', 21075991.0),\n",
       " ('buffer_overflow.', 2751.0),\n",
       " ('loadmodule.', 326.0),\n",
       " ('perl.', 124.0),\n",
       " ('neptune.', 0.0),\n",
       " ('smurf.', 0.0),\n",
       " ('guess_passwd.', 144.0),\n",
       " ('pod.', 0.0),\n",
       " ('teardrop.', 0.0),\n",
       " ('portsweep.', 1991911.0),\n",
       " ('ipsweep.', 43.0),\n",
       " ('land.', 0.0),\n",
       " ('ftp_write.', 259.0),\n",
       " ('back.', 284.0),\n",
       " ('imap.', 72.0),\n",
       " ('satan.', 64.0),\n",
       " ('phf.', 18.0),\n",
       " ('nmap.', 0.0),\n",
       " ('multihop.', 1288.0),\n",
       " ('warezmaster.', 301.0),\n",
       " ('warezclient.', 627563.0),\n",
       " ('spy.', 636.0),\n",
       " ('rootkit.', 1008.0)]"
      ]
     },
     "execution_count": 97,
     "metadata": {},
     "output_type": "execute_result"
    }
   ],
   "source": [
    "tag_duration_kv_pair.reduceByKey(lambda x, y: x + y).collect()"
   ]
  },
  {
   "cell_type": "code",
   "execution_count": 105,
   "id": "fd23603a-8db2-42be-a06c-06ec58a64f3f",
   "metadata": {},
   "outputs": [
    {
     "data": {
      "text/plain": [
       "[('normal.', (97278, 21075991.0)),\n",
       " ('buffer_overflow.', (30, 2751.0)),\n",
       " ('loadmodule.', (9, 326.0)),\n",
       " ('perl.', (3, 124.0)),\n",
       " ('neptune.', (107201, 0.0)),\n",
       " ('smurf.', (280790, 0.0)),\n",
       " ('guess_passwd.', (53, 144.0)),\n",
       " ('pod.', (264, 0.0)),\n",
       " ('teardrop.', (979, 0.0)),\n",
       " ('portsweep.', (1040, 1991911.0)),\n",
       " ('ipsweep.', (1247, 43.0)),\n",
       " ('land.', (21, 0.0)),\n",
       " ('ftp_write.', (8, 259.0)),\n",
       " ('back.', (2203, 284.0)),\n",
       " ('imap.', (12, 72.0)),\n",
       " ('satan.', (1589, 64.0)),\n",
       " ('phf.', (4, 18.0)),\n",
       " ('nmap.', (231, 0.0)),\n",
       " ('multihop.', (7, 1288.0)),\n",
       " ('warezmaster.', (20, 301.0)),\n",
       " ('warezclient.', (1020, 627563.0)),\n",
       " ('spy.', (2, 636.0)),\n",
       " ('rootkit.', (10, 1008.0))]"
      ]
     },
     "execution_count": 105,
     "metadata": {},
     "output_type": "execute_result"
    }
   ],
   "source": [
    "tag_count_duration = tag_duration_kv_pair.combineByKey(\n",
    "    lambda x: [1, x],\n",
    "    lambda acc, value: (acc[0] + 1, acc[1] + value),\n",
    "    lambda acc1, acc2: (acc1[0] + acc2[0], acc1[1] + acc2[1]),\n",
    ")\n",
    "tag_count_duration.collect()"
   ]
  },
  {
   "cell_type": "code",
   "execution_count": 107,
   "id": "626123d1-aec9-4665-8ad9-ee891539d1a7",
   "metadata": {},
   "outputs": [
    {
     "name": "stdout",
     "output_type": "stream",
     "text": [
      "+----------------+--------------------+\n",
      "|             tag|    (count,duration)|\n",
      "+----------------+--------------------+\n",
      "|         normal.|{97278, 2.1075991E7}|\n",
      "|buffer_overflow.|        {30, 2751.0}|\n",
      "|     loadmodule.|          {9, 326.0}|\n",
      "|           perl.|          {3, 124.0}|\n",
      "|        neptune.|       {107201, 0.0}|\n",
      "|          smurf.|       {280790, 0.0}|\n",
      "|   guess_passwd.|         {53, 144.0}|\n",
      "|            pod.|          {264, 0.0}|\n",
      "|       teardrop.|          {979, 0.0}|\n",
      "|      portsweep.|   {1040, 1991911.0}|\n",
      "|        ipsweep.|        {1247, 43.0}|\n",
      "|           land.|           {21, 0.0}|\n",
      "|      ftp_write.|          {8, 259.0}|\n",
      "|           back.|       {2203, 284.0}|\n",
      "|           imap.|          {12, 72.0}|\n",
      "|          satan.|        {1589, 64.0}|\n",
      "|            phf.|           {4, 18.0}|\n",
      "|           nmap.|          {231, 0.0}|\n",
      "|       multihop.|         {7, 1288.0}|\n",
      "|    warezmaster.|         {20, 301.0}|\n",
      "+----------------+--------------------+\n",
      "only showing top 20 rows\n",
      "\n"
     ]
    }
   ],
   "source": [
    "from pyspark.sql import SparkSession\n",
    "spark = SparkSession(sc)\n",
    "df = spark.createDataFrame(tag_count_duration, [\"tag\", \"(count,duration)\"])\n",
    "df.show()"
   ]
  },
  {
   "cell_type": "code",
   "execution_count": null,
   "id": "7766cf80-550f-4f74-9589-788536a17e50",
   "metadata": {},
   "outputs": [],
   "source": []
  }
 ],
 "metadata": {
  "kernelspec": {
   "display_name": "Python 3.8.6  ('.venv': venv)",
   "language": "python",
   "name": "pythonjvsc74a57bd00ee8c4bb566078ea78d324e2cfeab9cdcd4f0e1c52c57f49c8d2c712b5095e94"
  },
  "language_info": {
   "codemirror_mode": {
    "name": "ipython",
    "version": 3
   },
   "file_extension": ".py",
   "mimetype": "text/x-python",
   "name": "python",
   "nbconvert_exporter": "python",
   "pygments_lexer": "ipython3",
   "version": "3.8.6"
  }
 },
 "nbformat": 4,
 "nbformat_minor": 5
}
