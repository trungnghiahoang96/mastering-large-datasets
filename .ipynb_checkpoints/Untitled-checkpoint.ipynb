{
 "cells": [
  {
   "cell_type": "code",
   "execution_count": null,
   "id": "ede6ebf2-7b11-4c9e-9f79-1f2f9d2510a5",
   "metadata": {},
   "outputs": [],
   "source": []
  }
 ],
 "metadata": {
  "kernelspec": {
   "display_name": "Python 3.8.6  ('.venv': venv)",
   "language": "python",
   "name": "pythonjvsc74a57bd00ee8c4bb566078ea78d324e2cfeab9cdcd4f0e1c52c57f49c8d2c712b5095e94"
  },
  "language_info": {
   "codemirror_mode": {
    "name": "ipython",
    "version": 3
   },
   "file_extension": ".py",
   "mimetype": "text/x-python",
   "name": "python",
   "nbconvert_exporter": "python",
   "pygments_lexer": "ipython3",
   "version": "3.8.6"
  }
 },
 "nbformat": 4,
 "nbformat_minor": 5
}
